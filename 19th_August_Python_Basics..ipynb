{
 "cells": [
  {
   "cell_type": "markdown",
   "id": "f2416a55-226e-4d6f-bf90-23d11a4b57ce",
   "metadata": {},
   "source": [
    "Q.1."
   ]
  },
  {
   "cell_type": "code",
   "execution_count": 1,
   "id": "c58ce92c-aa15-46da-abfc-05babf1c7fbc",
   "metadata": {},
   "outputs": [],
   "source": [
    "#Assigning values to variables\n",
    "x,y = 15,70"
   ]
  },
  {
   "cell_type": "code",
   "execution_count": 2,
   "id": "534614fb-b79f-4109-8d1e-da41e1e9626d",
   "metadata": {},
   "outputs": [
    {
     "data": {
      "text/plain": [
       "15"
      ]
     },
     "execution_count": 2,
     "metadata": {},
     "output_type": "execute_result"
    }
   ],
   "source": [
    "x"
   ]
  },
  {
   "cell_type": "code",
   "execution_count": 3,
   "id": "9103aa72-69ea-4fc9-a11d-547d9459fd98",
   "metadata": {},
   "outputs": [
    {
     "data": {
      "text/plain": [
       "70"
      ]
     },
     "execution_count": 3,
     "metadata": {},
     "output_type": "execute_result"
    }
   ],
   "source": [
    "y"
   ]
  },
  {
   "cell_type": "code",
   "execution_count": 4,
   "id": "5ea1b34b-52af-4539-a2da-af4c93049843",
   "metadata": {},
   "outputs": [],
   "source": [
    "#Summation of int without using any new temporary variable\n",
    "x = x+y"
   ]
  },
  {
   "cell_type": "code",
   "execution_count": 5,
   "id": "d6564ad8-dff8-4eb4-8b0d-76d0698b6561",
   "metadata": {},
   "outputs": [],
   "source": [
    "#Swapping of values by subtracting prev assigned value from summation\n",
    "y = x - y"
   ]
  },
  {
   "cell_type": "code",
   "execution_count": 6,
   "id": "d3941e9d-c7fe-4826-916d-5f12c03776e2",
   "metadata": {},
   "outputs": [
    {
     "data": {
      "text/plain": [
       "15"
      ]
     },
     "execution_count": 6,
     "metadata": {},
     "output_type": "execute_result"
    }
   ],
   "source": [
    "y"
   ]
  },
  {
   "cell_type": "code",
   "execution_count": 7,
   "id": "de1f9d7c-be59-4eb5-bdd5-5fcce8d8e6e0",
   "metadata": {},
   "outputs": [],
   "source": [
    "x = x - y"
   ]
  },
  {
   "cell_type": "code",
   "execution_count": 8,
   "id": "6ce8a47e-c9c5-4e3e-beba-da9d71745419",
   "metadata": {},
   "outputs": [
    {
     "data": {
      "text/plain": [
       "70"
      ]
     },
     "execution_count": 8,
     "metadata": {},
     "output_type": "execute_result"
    }
   ],
   "source": [
    "x"
   ]
  },
  {
   "cell_type": "markdown",
   "id": "e27a67f3-11ee-4260-b79e-34296927c324",
   "metadata": {},
   "source": [
    "Q.2."
   ]
  },
  {
   "cell_type": "code",
   "execution_count": 9,
   "id": "3b73c2ab-c3cc-499b-82bc-b633f52ce697",
   "metadata": {},
   "outputs": [
    {
     "name": "stdin",
     "output_type": "stream",
     "text": [
      " 56\n",
      " 78.56\n"
     ]
    }
   ],
   "source": [
    "#Length and breadth as input\n",
    "length_of_rectangle, breadth_of_rectangle = float(input()) , float(input())"
   ]
  },
  {
   "cell_type": "code",
   "execution_count": 10,
   "id": "7999d45e-f8e5-4f77-a6c2-e44a2e3c62e8",
   "metadata": {},
   "outputs": [],
   "source": [
    "#Calculating area\n",
    "Area = length_of_rectangle * breadth_of_rectangle"
   ]
  },
  {
   "cell_type": "code",
   "execution_count": 11,
   "id": "c2d90b8e-5721-4c48-8995-9915a349d4ab",
   "metadata": {},
   "outputs": [
    {
     "data": {
      "text/plain": [
       "4399.360000000001"
      ]
     },
     "execution_count": 11,
     "metadata": {},
     "output_type": "execute_result"
    }
   ],
   "source": [
    "Area"
   ]
  },
  {
   "cell_type": "markdown",
   "id": "9787a35a-40ff-4722-8401-be02776c680c",
   "metadata": {},
   "source": [
    "Q.3."
   ]
  },
  {
   "cell_type": "code",
   "execution_count": 12,
   "id": "13b1a9be-7fb4-4f0f-a3ed-c59a6f7462ba",
   "metadata": {},
   "outputs": [
    {
     "name": "stdin",
     "output_type": "stream",
     "text": [
      " 30\n"
     ]
    }
   ],
   "source": [
    "#Taking celsius as input\n",
    "Celsius = float(input())"
   ]
  },
  {
   "cell_type": "code",
   "execution_count": 13,
   "id": "41b9e986-526e-4d2a-89b0-665500edd4ac",
   "metadata": {},
   "outputs": [],
   "source": [
    "#Converting celsius to fahrenheit\n",
    "Fahrenheit = (Celsius * 9/5) + 32 "
   ]
  },
  {
   "cell_type": "code",
   "execution_count": 14,
   "id": "6ff63e3e-9558-440e-a500-85a532c4a5c6",
   "metadata": {},
   "outputs": [
    {
     "data": {
      "text/plain": [
       "86.0"
      ]
     },
     "execution_count": 14,
     "metadata": {},
     "output_type": "execute_result"
    }
   ],
   "source": [
    "Fahrenheit"
   ]
  },
  {
   "cell_type": "markdown",
   "id": "151c89ed-4c82-4d7f-8284-60df36477b97",
   "metadata": {},
   "source": [
    "String Based"
   ]
  },
  {
   "cell_type": "markdown",
   "id": "0d97d715-fe4e-4fa8-8222-899336c94389",
   "metadata": {},
   "source": [
    "Q.1."
   ]
  },
  {
   "cell_type": "code",
   "execution_count": 15,
   "id": "c5826335-55cc-43bf-9cc9-5f7f25184293",
   "metadata": {},
   "outputs": [
    {
     "name": "stdin",
     "output_type": "stream",
     "text": [
      " jkkkkrjshfk\n"
     ]
    }
   ],
   "source": [
    "#string as input\n",
    "A = input()"
   ]
  },
  {
   "cell_type": "code",
   "execution_count": 16,
   "id": "d07614ef-4836-4179-a9d7-49cb06dbfa36",
   "metadata": {},
   "outputs": [
    {
     "data": {
      "text/plain": [
       "11"
      ]
     },
     "execution_count": 16,
     "metadata": {},
     "output_type": "execute_result"
    }
   ],
   "source": [
    "#Calculating length of the string\n",
    "len(A)"
   ]
  },
  {
   "cell_type": "markdown",
   "id": "9b330615-fea6-4ae4-ba9b-5079dc3f21b2",
   "metadata": {},
   "source": [
    "Q.2."
   ]
  },
  {
   "cell_type": "code",
   "execution_count": 17,
   "id": "4cf59f3b-1b5d-484d-88dd-6b6eecdf436e",
   "metadata": {},
   "outputs": [
    {
     "name": "stdin",
     "output_type": "stream",
     "text": [
      " jsdfknjfjdfnz,kn\n"
     ]
    }
   ],
   "source": [
    "#input\n",
    "sentence = input()"
   ]
  },
  {
   "cell_type": "code",
   "execution_count": 18,
   "id": "731afdc9-b487-4df5-8af7-b0e22cdcd427",
   "metadata": {},
   "outputs": [],
   "source": [
    "#Defining a set of vowels both upper and lower case\n",
    "vowels = \"aeiouAEIOU\"\n",
    "#sum of counts of vowels in the input \n",
    "a = sum(sentence.count(vowel) for vowel in vowels)"
   ]
  },
  {
   "cell_type": "code",
   "execution_count": 19,
   "id": "241ea6a7-5235-4c58-ba17-14a7081eef0d",
   "metadata": {},
   "outputs": [
    {
     "data": {
      "text/plain": [
       "0"
      ]
     },
     "execution_count": 19,
     "metadata": {},
     "output_type": "execute_result"
    }
   ],
   "source": [
    "a"
   ]
  },
  {
   "cell_type": "markdown",
   "id": "13d1eecb-643c-4fbc-9ec4-dcb9cbcd9872",
   "metadata": {},
   "source": [
    "Q.3."
   ]
  },
  {
   "cell_type": "code",
   "execution_count": 20,
   "id": "de475367-c7be-4fd1-83ed-db3b9ece2bc9",
   "metadata": {},
   "outputs": [
    {
     "name": "stdin",
     "output_type": "stream",
     "text": [
      " eeee\n"
     ]
    }
   ],
   "source": [
    "#input a string\n",
    "string = input()"
   ]
  },
  {
   "cell_type": "code",
   "execution_count": 21,
   "id": "0c9fb4e1-4350-41ce-8bec-994c851229e7",
   "metadata": {},
   "outputs": [],
   "source": [
    "rev_string = string[::-1]"
   ]
  },
  {
   "cell_type": "code",
   "execution_count": 22,
   "id": "f583c024-7084-497c-b869-004a11daf0ed",
   "metadata": {},
   "outputs": [
    {
     "data": {
      "text/plain": [
       "'eeee'"
      ]
     },
     "execution_count": 22,
     "metadata": {},
     "output_type": "execute_result"
    }
   ],
   "source": [
    "rev_string"
   ]
  },
  {
   "cell_type": "markdown",
   "id": "40b95e36-7351-40e7-80bb-e17ddb223d14",
   "metadata": {},
   "source": [
    "Q.4."
   ]
  },
  {
   "cell_type": "code",
   "execution_count": 23,
   "id": "94b54e7b-25ae-4be9-ab5c-dd2668446064",
   "metadata": {},
   "outputs": [
    {
     "name": "stdout",
     "output_type": "stream",
     "text": [
      "Yes\n"
     ]
    }
   ],
   "source": [
    "#continuation of Q.3 to check string is palindrome or not\n",
    "if string == rev_string : print(\"Yes\")\n",
    "if string != rev_string : print(\"No\")"
   ]
  },
  {
   "cell_type": "markdown",
   "id": "9d7f3cab-dea6-4a1d-b215-855ed9f65131",
   "metadata": {},
   "source": [
    "Q.5."
   ]
  },
  {
   "cell_type": "code",
   "execution_count": 24,
   "id": "bb4af15b-9566-4856-9355-8091e809748a",
   "metadata": {},
   "outputs": [
    {
     "name": "stdin",
     "output_type": "stream",
     "text": [
      " nd jdfh jhdf\n"
     ]
    }
   ],
   "source": [
    "A = input()"
   ]
  },
  {
   "cell_type": "code",
   "execution_count": 25,
   "id": "dd73111f-3ae3-40ef-a4aa-dfbff7fdb378",
   "metadata": {},
   "outputs": [
    {
     "data": {
      "text/plain": [
       "'ndjdfhjhdf'"
      ]
     },
     "execution_count": 25,
     "metadata": {},
     "output_type": "execute_result"
    }
   ],
   "source": [
    "#Replacing all the spaces \n",
    "A.replace (\" \",\"\")"
   ]
  }
 ],
 "metadata": {
  "kernelspec": {
   "display_name": "Python 3 (ipykernel)",
   "language": "python",
   "name": "python3"
  },
  "language_info": {
   "codemirror_mode": {
    "name": "ipython",
    "version": 3
   },
   "file_extension": ".py",
   "mimetype": "text/x-python",
   "name": "python",
   "nbconvert_exporter": "python",
   "pygments_lexer": "ipython3",
   "version": "3.10.8"
  }
 },
 "nbformat": 4,
 "nbformat_minor": 5
}
